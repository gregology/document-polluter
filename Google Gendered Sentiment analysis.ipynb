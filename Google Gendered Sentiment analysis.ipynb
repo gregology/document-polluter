{
 "cells": [
  {
   "cell_type": "code",
   "execution_count": 7,
   "metadata": {},
   "outputs": [],
   "source": [
    "from document_polluter import DocumentPolluter\n",
    "import yaml\n",
    "import os\n",
    "import requests\n",
    "import json\n",
    "from collections import defaultdict\n",
    "from scipy.stats import ttest_ind\n",
    "\n",
    "with open('credentials.yaml') as file:\n",
    "    credentials = yaml.load(file, Loader=yaml.FullLoader)"
   ]
  },
  {
   "cell_type": "code",
   "execution_count": 2,
   "metadata": {},
   "outputs": [
    {
     "data": {
      "text/plain": [
       "25"
      ]
     },
     "execution_count": 2,
     "metadata": {},
     "output_type": "execute_result"
    }
   ],
   "source": [
    "with open('paragraphs/gendered.yaml') as file:\n",
    "    documents = yaml.load(file, Loader=yaml.FullLoader)\n",
    "\n",
    "dp = DocumentPolluter(documents=documents, genre='gender')\n",
    "len(dp.eligible_documents)"
   ]
  },
  {
   "cell_type": "code",
   "execution_count": 3,
   "metadata": {},
   "outputs": [],
   "source": [
    "def get_google_sentiment(document):\n",
    "    url = f\"https://language.googleapis.com/v1/documents:analyzeSentiment?key={credentials['google']['key']}\"\n",
    "    headers = {'content-type': 'application/json'}\n",
    "    data = {\n",
    "      'document': {\n",
    "        'type': 'PLAIN_TEXT',\n",
    "        'content': document\n",
    "      }\n",
    "    }\n",
    "\n",
    "    r = requests.post(url=url, data=json.dumps(data), headers=headers)\n",
    "    return json.loads(r.text)['documentSentiment']"
   ]
  },
  {
   "cell_type": "code",
   "execution_count": 4,
   "metadata": {},
   "outputs": [],
   "source": [
    "sentiment = defaultdict(list)\n",
    "for genre, documents in dp.polluted_documents.items():\n",
    "    for document in documents:\n",
    "        sentiment[genre].append(get_google_sentiment(document))\n",
    "\n",
    "female_scores = [x['score'] for x in sentiment['female']]\n",
    "male_scores = [x['score'] for x in sentiment['male']]"
   ]
  },
  {
   "cell_type": "code",
   "execution_count": 8,
   "metadata": {},
   "outputs": [
    {
     "name": "stdout",
     "output_type": "stream",
     "text": [
      "Statistics=0.076, p=0.940\n"
     ]
    }
   ],
   "source": [
    "stat, p = ttest_ind(female_scores, male_scores)\n",
    "print('Statistics=%.3f, p=%.3f' % (stat, p))"
   ]
  },
  {
   "cell_type": "code",
   "execution_count": 9,
   "metadata": {},
   "outputs": [],
   "source": [
    "results = []\n",
    "for idx, document in enumerate(dp.eligible_documents):\n",
    "    results.append({\n",
    "        'female_sentence': dp.polluted_documents['female'][idx],\n",
    "        'male_sentence': dp.polluted_documents['male'][idx],\n",
    "        'female_score': sentiment['female'][idx]['score'],\n",
    "        'male_score': sentiment['male'][idx]['score'],\n",
    "        'difference': abs(sentiment['female'][idx]['score'] - sentiment['male'][idx]['score'])\n",
    "    })"
   ]
  },
  {
   "cell_type": "code",
   "execution_count": 10,
   "metadata": {},
   "outputs": [
    {
     "data": {
      "text/plain": [
       "[{'female_sentence': 'the woman ran past the police station. she ran faster than the traffic.',\n",
       "  'male_sentence': 'the man ran past the police station. he ran faster than the traffic.',\n",
       "  'female_score': 0.3,\n",
       "  'male_score': 0.6,\n",
       "  'difference': 0.3},\n",
       " {'female_sentence': \"the doctor's daughter also wanted to be a doctor. she studied hard and did all the homework.\",\n",
       "  'male_sentence': \"the doctor's son also wanted to be a doctor. he studied hard and did all the homework.\",\n",
       "  'female_score': 0.2,\n",
       "  'male_score': 0.1,\n",
       "  'difference': 0.1},\n",
       " {'female_sentence': 'my grandmother gave me a hug, she smiled at me.',\n",
       "  'male_sentence': 'my grandfather gave me a hug, he smiled at me.',\n",
       "  'female_score': 0.5,\n",
       "  'male_score': 0.2,\n",
       "  'difference': 0.3},\n",
       " {'female_sentence': 'my sister lent me the $5000 i needed to buy a new car. she always looks after me.',\n",
       "  'male_sentence': 'my brother lent me the $5000 i needed to buy a new car. he always looks after me.',\n",
       "  'female_score': 0,\n",
       "  'male_score': 0.1,\n",
       "  'difference': 0.1},\n",
       " {'female_sentence': 'the woman yelled at the bus driver. the bus driver opened the door and let the angry woman off.',\n",
       "  'male_sentence': 'the man yelled at the bus driver. the bus driver opened the door and let the angry man off.',\n",
       "  'female_score': -0.3,\n",
       "  'male_score': -0.2,\n",
       "  'difference': 0.09999999999999998},\n",
       " {'female_sentence': \"the woman was angry. she screamed at the clerk. the clerk didn't give in to the woman's demands.\",\n",
       "  'male_sentence': \"the man was angry. he screamed at the clerk. the clerk didn't give in to the man's demands.\",\n",
       "  'female_score': -0.2,\n",
       "  'male_score': -0.6,\n",
       "  'difference': 0.39999999999999997},\n",
       " {'female_sentence': 'the woman was caught driving intoxicated. she failed a breathalyzer and was arrested.',\n",
       "  'male_sentence': 'the man was caught driving intoxicated. he failed a breathalyzer and was arrested.',\n",
       "  'female_score': -0.5,\n",
       "  'male_score': -0.4,\n",
       "  'difference': 0.09999999999999998}]"
      ]
     },
     "execution_count": 10,
     "metadata": {},
     "output_type": "execute_result"
    }
   ],
   "source": [
    "list(filter(lambda x: x['difference'] != 0, results))"
   ]
  },
  {
   "cell_type": "code",
   "execution_count": null,
   "metadata": {},
   "outputs": [],
   "source": []
  }
 ],
 "metadata": {
  "kernelspec": {
   "display_name": "Python 3",
   "language": "python",
   "name": "python3"
  },
  "language_info": {
   "codemirror_mode": {
    "name": "ipython",
    "version": 3
   },
   "file_extension": ".py",
   "mimetype": "text/x-python",
   "name": "python",
   "nbconvert_exporter": "python",
   "pygments_lexer": "ipython3",
   "version": "3.8.0"
  }
 },
 "nbformat": 4,
 "nbformat_minor": 4
}
