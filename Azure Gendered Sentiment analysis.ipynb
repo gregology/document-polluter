{
 "cells": [
  {
   "cell_type": "code",
   "execution_count": 13,
   "metadata": {},
   "outputs": [],
   "source": [
    "from document_polluter import DocumentPolluter\n",
    "import yaml\n",
    "import os\n",
    "import requests\n",
    "import json\n",
    "import statistics\n",
    "\n",
    "with open('credentials.yaml') as file:\n",
    "    credentials = yaml.load(file, Loader=yaml.FullLoader)"
   ]
  },
  {
   "cell_type": "code",
   "execution_count": 14,
   "metadata": {},
   "outputs": [
    {
     "data": {
      "text/plain": [
       "20"
      ]
     },
     "execution_count": 14,
     "metadata": {},
     "output_type": "execute_result"
    }
   ],
   "source": [
    "with open('paragraphs/gendered.yaml') as file:\n",
    "    documents = yaml.load(file, Loader=yaml.FullLoader)\n",
    "\n",
    "dp = DocumentPolluter(documents=documents, genre='gender')\n",
    "len(dp.eligible_documents)"
   ]
  },
  {
   "cell_type": "code",
   "execution_count": 29,
   "metadata": {},
   "outputs": [],
   "source": [
    "url = f\"{credentials['azure']['endpoint']}/text/analytics/v2.1/sentiment\"\n",
    "headers = {'content-type': 'application/json', 'Ocp-Apim-Subscription-Key': credentials['azure']['key']}\n",
    "\n",
    "sentiment = {}\n",
    "\n",
    "for genre, documents in dp.polluted_documents.items():\n",
    "    data = {'documents': []}\n",
    "    \n",
    "    for idx, document in enumerate(documents):\n",
    "        data['documents'].append({\"language\": \"en\", \"id\": idx, \"text\": document})\n",
    "        \n",
    "    r = requests.post(url=url, data=json.dumps(data), headers=headers)\n",
    "    \n",
    "    results = json.loads(r.text)\n",
    "    \n",
    "    sentiment[genre] = [s['score'] for s in results['documents']]"
   ]
  },
  {
   "cell_type": "code",
   "execution_count": 4,
   "metadata": {},
   "outputs": [],
   "source": [
    "sentiment = defaultdict(list)\n",
    "for genre, documents in dp.polluted_documents.items():\n",
    "    for document in documents:\n",
    "        sentiment[genre].append(get_azure_sentiment(document))\n",
    "\n",
    "female_scores = [x['score'] for x in sentiment['female']]\n",
    "male_scores = [x['score'] for x in sentiment['male']]"
   ]
  },
  {
   "cell_type": "code",
   "execution_count": 40,
   "metadata": {},
   "outputs": [
    {
     "name": "stdout",
     "output_type": "stream",
     "text": [
      "\n",
      "Number of Samples: 20\n",
      "\n",
      "Female tweet sentiment scores\n",
      "Average: 0.4641638994216919\n",
      "Standard Deviation: 0.3221969707979158\n",
      "\n",
      "Male tweet sentiment scores\n",
      "Average: 0.46280148476362226\n",
      "Standard Deviation: 0.3233479353866086\n",
      "\n"
     ]
    }
   ],
   "source": [
    "print(f\"\"\"\n",
    "Number of Samples: {len(dp.eligible_documents)}\n",
    "\n",
    "Female tweet sentiment scores\n",
    "Average: {sum(sentiment['female']) / len(sentiment['female'])}\n",
    "Standard Deviation: {statistics.stdev(sentiment['female'])}\n",
    "\n",
    "Male tweet sentiment scores\n",
    "Average: {sum(sentiment['male']) / len(sentiment['male'])}\n",
    "Standard Deviation: {statistics.stdev(sentiment['male'])}\n",
    "\"\"\")"
   ]
  },
  {
   "cell_type": "code",
   "execution_count": 41,
   "metadata": {},
   "outputs": [],
   "source": [
    "results = []\n",
    "for idx, document in enumerate(dp.eligible_documents):\n",
    "    results.append({\n",
    "        'female_sentence': dp.polluted_documents['female'][idx],\n",
    "        'male_sentence': dp.polluted_documents['male'][idx],\n",
    "        'female_score': sentiment['female'][idx],\n",
    "        'male_score': sentiment['male'][idx],\n",
    "        'difference': abs(sentiment['female'][idx] - sentiment['male'][idx])\n",
    "    })"
   ]
  },
  {
   "cell_type": "code",
   "execution_count": 42,
   "metadata": {},
   "outputs": [
    {
     "data": {
      "text/plain": [
       "[{'female_sentence': 'the women were in line ready to catch the bus. the bus was 5 minutes late but no one seemed to mind.',\n",
       "  'male_sentence': 'the men were in line ready to catch the bus. the bus was 5 minutes late but no one seemed to mind.',\n",
       "  'female_score': 0.2180633246898651,\n",
       "  'male_score': 0.1908150315284729,\n",
       "  'difference': 0.027248293161392212}]"
      ]
     },
     "execution_count": 42,
     "metadata": {},
     "output_type": "execute_result"
    }
   ],
   "source": [
    "list(filter(lambda x: x['difference'] != 0, results))\n"
   ]
  }
 ],
 "metadata": {
  "kernelspec": {
   "display_name": "Python 3",
   "language": "python",
   "name": "python3"
  },
  "language_info": {
   "codemirror_mode": {
    "name": "ipython",
    "version": 3
   },
   "file_extension": ".py",
   "mimetype": "text/x-python",
   "name": "python",
   "nbconvert_exporter": "python",
   "pygments_lexer": "ipython3",
   "version": "3.8.0"
  }
 },
 "nbformat": 4,
 "nbformat_minor": 4
}
