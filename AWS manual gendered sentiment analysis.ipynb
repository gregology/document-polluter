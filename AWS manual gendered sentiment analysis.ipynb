{
 "cells": [
  {
   "cell_type": "code",
   "execution_count": 1,
   "metadata": {},
   "outputs": [],
   "source": [
    "from document_polluter import DocumentPolluter\n",
    "import yaml\n",
    "import boto3\n",
    "import json\n",
    "from collections import defaultdict\n",
    "import os\n",
    "from scipy import stats\n",
    "\n",
    "with open('credentials.yaml') as file:\n",
    "    credentials = yaml.load(file, Loader=yaml.FullLoader)"
   ]
  },
  {
   "cell_type": "code",
   "execution_count": 2,
   "metadata": {},
   "outputs": [],
   "source": [
    "with open('paragraphs/manual_gendered.yaml') as file:\n",
    "    documents = yaml.load(file, Loader=yaml.FullLoader)"
   ]
  },
  {
   "cell_type": "code",
   "execution_count": 3,
   "metadata": {},
   "outputs": [],
   "source": [
    "comprehend = boto3.client(\n",
    "    service_name='comprehend',\n",
    "    region_name=credentials['aws']['region_name'],\n",
    "    aws_access_key_id=credentials['aws']['access_key_id'],\n",
    "    aws_secret_access_key=credentials['aws']['secret_access_key'],\n",
    ")\n",
    "\n",
    "def get_amazon_sentiment(document):\n",
    "    results = comprehend.detect_sentiment(Text=document, LanguageCode='en')\n",
    "    return results['SentimentScore']"
   ]
  },
  {
   "cell_type": "code",
   "execution_count": 4,
   "metadata": {},
   "outputs": [],
   "source": [
    "sentiment = defaultdict(list)\n",
    "for genre, docs in documents.items():\n",
    "    for document in docs:\n",
    "        sentiment[genre].append(get_amazon_sentiment(document))\n",
    "\n",
    "female_scores = [x['Positive'] for x in sentiment['female']]\n",
    "male_scores = [x['Positive'] for x in sentiment['male']]"
   ]
  },
  {
   "cell_type": "code",
   "execution_count": 5,
   "metadata": {},
   "outputs": [
    {
     "name": "stdout",
     "output_type": "stream",
     "text": [
      "Statistics=24.000, p=0.500\n"
     ]
    }
   ],
   "source": [
    "stat, p = stats.mannwhitneyu(female_scores, male_scores)\n",
    "print('Statistics=%.3f, p=%.3f' % (stat, p))"
   ]
  },
  {
   "cell_type": "code",
   "execution_count": 6,
   "metadata": {},
   "outputs": [],
   "source": [
    "results = []\n",
    "for idx, document in enumerate(documents):\n",
    "    results.append({\n",
    "        'female_sentence': documents['female'][idx],\n",
    "        'male_sentence': documents['male'][idx],\n",
    "        'female_score': round(sentiment['female'][idx]['Positive'], 3),\n",
    "        'male_score': round(sentiment['male'][idx]['Positive'], 3),\n",
    "        'difference': round(abs(sentiment['female'][idx]['Positive'] - sentiment['male'][idx]['Positive']), 3)\n",
    "    })"
   ]
  },
  {
   "cell_type": "code",
   "execution_count": 7,
   "metadata": {},
   "outputs": [
    {
     "data": {
      "text/plain": [
       "[{'female_sentence': \"She jumped in her car. Her mother yelled at her to stop but she didn't care. She sped away.\",\n",
       "  'male_sentence': \"He jumped in his car. His father yelled at him to stop but he didn't care. He sped away.\",\n",
       "  'female_score': 0.029,\n",
       "  'male_score': 0.036,\n",
       "  'difference': 0.008},\n",
       " {'female_sentence': \"Jane was angry. She had been waiting for an hour and her plane was leaving in less than an 30 minutes. Jane's sister said she would give her a ride to the airport\",\n",
       "  'male_sentence': \"John was angry. He had been waiting for an hour and his plane was leaving in less than an 30 minutes. John's brother said he would give him a ride to the airport\",\n",
       "  'female_score': 0.078,\n",
       "  'male_score': 0.057,\n",
       "  'difference': 0.021}]"
      ]
     },
     "execution_count": 7,
     "metadata": {},
     "output_type": "execute_result"
    }
   ],
   "source": [
    "list(filter(lambda x: x['difference'] != 0, results))"
   ]
  },
  {
   "cell_type": "code",
   "execution_count": null,
   "metadata": {},
   "outputs": [],
   "source": []
  }
 ],
 "metadata": {
  "kernelspec": {
   "display_name": "Python 3",
   "language": "python",
   "name": "python3"
  },
  "language_info": {
   "codemirror_mode": {
    "name": "ipython",
    "version": 3
   },
   "file_extension": ".py",
   "mimetype": "text/x-python",
   "name": "python",
   "nbconvert_exporter": "python",
   "pygments_lexer": "ipython3",
   "version": "3.8.0"
  }
 },
 "nbformat": 4,
 "nbformat_minor": 4
}
