{
 "cells": [
  {
   "cell_type": "code",
   "execution_count": 3,
   "metadata": {},
   "outputs": [],
   "source": [
    "from document_polluter import DocumentPolluterError, DocumentPolluter, genres, clusters, non_fungible_terms, fungibles\n",
    "import yaml\n",
    "import os\n",
    "import tweepy\n",
    "\n",
    "with open('credentials.yaml') as file:\n",
    "  credentials = yaml.load(file, Loader=yaml.FullLoader)\n",
    "\n",
    "auth = tweepy.OAuthHandler(credentials['twitter']['api_key'], credentials['twitter']['api_secret_key'])\n",
    "auth.set_access_token(credentials['twitter']['access_token'], credentials['twitter']['access_token_secret'])"
   ]
  },
  {
   "cell_type": "code",
   "execution_count": 12,
   "metadata": {},
   "outputs": [],
   "source": [
    "api = tweepy.API(auth)\n",
    "public_tweets = api.home_timeline()\n",
    "\n",
    "documents = [tweet.text for tweet in public_tweets] "
   ]
  },
  {
   "cell_type": "code",
   "execution_count": 14,
   "metadata": {},
   "outputs": [],
   "source": [
    "dp = DocumentPolluter(documents=documents, genre='gender')"
   ]
  },
  {
   "cell_type": "code",
   "execution_count": 15,
   "metadata": {},
   "outputs": [
    {
     "data": {
      "text/plain": [
       "['thank you @essential team for all your amazing work! i loved every interaction i had with your devices and your com… https://t.co/bzm1m8p3ug',\n",
       " 'people are stopping hiding experiences due to shame and fear of govnmnt reprisal on their loved ones or losing thei… https://t.co/woyooxzp2w',\n",
       " 'at some point, canberrans will stop thinking she are alone and isolated in their experience. she will realise thi… https://t.co/gm5etle0fs',\n",
       " 'luckily the community is talking. .@canberratimes has not exposed any of this behaviour or written up any stories.… https://t.co/jdit1nh28n',\n",
       " 'the federal members including the virtue signaling. @aleighmp .@zedseselja also partake in passing the buck and doi… https://t.co/5f0mv9lq7a',\n",
       " 'the ministers and these authorities pass the buck, block negative comments &amp; reviews on social media and google. it… https://t.co/mtxdd86gjd',\n",
       " 'we have seen numerous instances of these ministers and their offices, along with others such as the public advocate… https://t.co/vx7yjx11jt',\n",
       " 'this is exactly the type of behaviour that is rampant in .@acthealth esp mental health. \\nit is pathetic that minist… https://t.co/5ccgbe33c5',\n",
       " 'rt @msftappsource: stay up to date on latest #azuremktplace and microsoft appsource news, feature releases, and resources during one of our…',\n",
       " 'for me the trick to dealing with impostor syndrome is realizing that what it really means is things are going much… https://t.co/flouekswsl',\n",
       " 'rt @drcolintrainor: #wildoz a female gang gang doing very little at hepburn springs, victoria @parrotoftheday https://t.co/gfzv7irm4r',\n",
       " 'an insightful and powerful writer, anne kingston’s brilliance and compassion were always apparent in her work. her… https://t.co/yb1vw185am',\n",
       " 'anne kingston était une auteure passionnée dont l’intelligence et la compassion se manifestaient toujours dans daughter… https://t.co/8ameodydzo',\n",
       " 'rt @michaelsteele: slow your roll if you think barr is breaking from trump. this was a carefully staged message to cool down pissed off doj…',\n",
       " 'rt @dnug: amazing footage. reassuring to see all is not lost. https://t.co/ddogfhpjlf',\n",
       " 'rt @suzannealma: @jimwatsonottawa what a wonderful honour for kathy..she dedicated her life to her community especially the hunt club area.…',\n",
       " 'rt @chrislintott: you might be hearing a lot about this asteroid which will whizz past on saturday - but the minimum distance is about 3.5…',\n",
       " 'new brunswickers agree that growing our economy, supporting our seniors and ratifying the new #nafta are priorities… https://t.co/lh1rhhmopx',\n",
       " 'les néo-brunswickois sont d’accord que faire croître l’économie, aider nos aînés et ratifier le nouvel #aléna sont… https://t.co/rttlphqdkd',\n",
       " 'rt @tracyvirtually: @wbn_ottawa @thebyasottawa 👏']"
      ]
     },
     "execution_count": 15,
     "metadata": {},
     "output_type": "execute_result"
    }
   ],
   "source": [
    "dp.polluted_documents['female']"
   ]
  },
  {
   "cell_type": "code",
   "execution_count": null,
   "metadata": {},
   "outputs": [],
   "source": []
  }
 ],
 "metadata": {
  "kernelspec": {
   "display_name": "Python 3",
   "language": "python",
   "name": "python3"
  },
  "language_info": {
   "codemirror_mode": {
    "name": "ipython",
    "version": 3
   },
   "file_extension": ".py",
   "mimetype": "text/x-python",
   "name": "python",
   "nbconvert_exporter": "python",
   "pygments_lexer": "ipython3",
   "version": "3.8.0"
  }
 },
 "nbformat": 4,
 "nbformat_minor": 4
}
