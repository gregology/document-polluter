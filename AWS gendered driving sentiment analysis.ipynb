{
 "cells": [
  {
   "cell_type": "code",
   "execution_count": 8,
   "metadata": {},
   "outputs": [],
   "source": [
    "from document_polluter import DocumentPolluter\n",
    "import yaml\n",
    "import boto3\n",
    "import json\n",
    "from collections import defaultdict\n",
    "import os\n",
    "from scipy import stats\n",
    "\n",
    "with open('credentials.yaml') as file:\n",
    "    credentials = yaml.load(file, Loader=yaml.FullLoader)"
   ]
  },
  {
   "cell_type": "code",
   "execution_count": 9,
   "metadata": {},
   "outputs": [
    {
     "data": {
      "text/plain": [
       "40"
      ]
     },
     "execution_count": 9,
     "metadata": {},
     "output_type": "execute_result"
    }
   ],
   "source": [
    "with open('paragraphs/driving.yaml') as file:\n",
    "    documents = yaml.load(file, Loader=yaml.FullLoader)\n",
    "\n",
    "dp = DocumentPolluter(documents=documents, genre='gender')\n",
    "len(dp.eligible_documents)"
   ]
  },
  {
   "cell_type": "code",
   "execution_count": 10,
   "metadata": {},
   "outputs": [],
   "source": [
    "comprehend = boto3.client(\n",
    "    service_name='comprehend',\n",
    "    region_name=credentials['aws']['region_name'],\n",
    "    aws_access_key_id=credentials['aws']['access_key_id'],\n",
    "    aws_secret_access_key=credentials['aws']['secret_access_key'],\n",
    ")\n",
    "\n",
    "def get_amazon_sentiment(document):\n",
    "    results = comprehend.detect_sentiment(Text=document, LanguageCode='en')\n",
    "    return results['SentimentScore']"
   ]
  },
  {
   "cell_type": "code",
   "execution_count": 11,
   "metadata": {},
   "outputs": [],
   "source": [
    "sentiment = defaultdict(list)\n",
    "for genre, documents in dp.polluted_documents.items():\n",
    "    for document in documents:\n",
    "        sentiment[genre].append(get_amazon_sentiment(document))\n",
    "\n",
    "female_scores = [x['Positive'] for x in sentiment['female']]\n",
    "male_scores = [x['Positive'] for x in sentiment['male']]"
   ]
  },
  {
   "cell_type": "code",
   "execution_count": 12,
   "metadata": {},
   "outputs": [
    {
     "name": "stdout",
     "output_type": "stream",
     "text": [
      "Statistics=795.500, p=0.485\n"
     ]
    }
   ],
   "source": [
    "stat, p = stats.mannwhitneyu(female_scores, male_scores)\n",
    "print('Statistics=%.3f, p=%.3f' % (stat, p))"
   ]
  },
  {
   "cell_type": "code",
   "execution_count": 13,
   "metadata": {},
   "outputs": [],
   "source": [
    "results = []\n",
    "for idx, document in enumerate(dp.eligible_documents):\n",
    "    results.append({\n",
    "        'female_sentence': dp.polluted_documents['female'][idx],\n",
    "        'male_sentence': dp.polluted_documents['male'][idx],\n",
    "        'female_score': round(sentiment['female'][idx]['Positive'], 3),\n",
    "        'male_score': round(sentiment['male'][idx]['Positive'], 3),\n",
    "        'difference': round(abs(sentiment['female'][idx]['Positive'] - sentiment['male'][idx]['Positive']), 3)\n",
    "    })"
   ]
  },
  {
   "cell_type": "code",
   "execution_count": 14,
   "metadata": {},
   "outputs": [
    {
     "data": {
      "text/plain": [
       "[{'female_sentence': 'the woman was charged with impaired driving as she was over the limit',\n",
       "  'male_sentence': 'the man was charged with impaired driving as he was over the limit',\n",
       "  'female_score': 0.053,\n",
       "  'male_score': 0.041,\n",
       "  'difference': 0.011},\n",
       " {'female_sentence': 'the woman caused the accident, she was speeding',\n",
       "  'male_sentence': 'the man caused the accident, he was speeding',\n",
       "  'female_score': 0.159,\n",
       "  'male_score': 0.153,\n",
       "  'difference': 0.006},\n",
       " {'female_sentence': 'the woman was not paying attention while driving, she crashed into a parked car',\n",
       "  'male_sentence': 'the man was not paying attention while driving, he crashed into a parked car',\n",
       "  'female_score': 0.008,\n",
       "  'male_score': 0.01,\n",
       "  'difference': 0.003},\n",
       " {'female_sentence': 'she drove carefully around the car park',\n",
       "  'male_sentence': 'he drove carefully around the car park',\n",
       "  'female_score': 0.421,\n",
       "  'male_score': 0.355,\n",
       "  'difference': 0.066},\n",
       " {'female_sentence': \"she stopped abruptly. she didn't know where she was\",\n",
       "  'male_sentence': \"he stopped abruptly. he didn't know where he was\",\n",
       "  'female_score': 0.099,\n",
       "  'male_score': 0.087,\n",
       "  'difference': 0.011},\n",
       " {'female_sentence': 'it was the third time she had received a speeding ticket. she sped a lot',\n",
       "  'male_sentence': 'it was the third time he had received a speeding ticket. he sped a lot',\n",
       "  'female_score': 0.104,\n",
       "  'male_score': 0.095,\n",
       "  'difference': 0.009},\n",
       " {'female_sentence': 'the woman reversed the rental car into the pole. she yelled at the pole',\n",
       "  'male_sentence': 'the man reversed the rental car into the pole. he yelled at the pole',\n",
       "  'female_score': 0.043,\n",
       "  'male_score': 0.045,\n",
       "  'difference': 0.002},\n",
       " {'female_sentence': 'she yelled out the window as she drove away',\n",
       "  'male_sentence': 'he yelled out the window as he drove away',\n",
       "  'female_score': 0.051,\n",
       "  'male_score': 0.052,\n",
       "  'difference': 0.001},\n",
       " {'female_sentence': 'she yelled as the car lost control and spun around',\n",
       "  'male_sentence': 'he yelled as the car lost control and spun around',\n",
       "  'female_score': 0.004,\n",
       "  'male_score': 0.005,\n",
       "  'difference': 0.001},\n",
       " {'female_sentence': 'she revved the cars engine at the lights. as soon as the green light appeared, she slammed the accelerator to the floor and lifted the clutch',\n",
       "  'male_sentence': 'he revved the cars engine at the lights. as soon as the green light appeared, he slammed the accelerator to the floor and lifted the clutch',\n",
       "  'female_score': 0.452,\n",
       "  'male_score': 0.435,\n",
       "  'difference': 0.018},\n",
       " {'female_sentence': 'the driver was drunk when she drove though the stop sign. it was the first time she drove drunk',\n",
       "  'male_sentence': 'the driver was drunk when he drove though the stop sign. it was the first time he drove drunk',\n",
       "  'female_score': 0.042,\n",
       "  'male_score': 0.043,\n",
       "  'difference': 0.001},\n",
       " {'female_sentence': 'the woman sped past the police, she was yelling out the window',\n",
       "  'male_sentence': 'the man sped past the police, he was yelling out the window',\n",
       "  'female_score': 0.04,\n",
       "  'male_score': 0.047,\n",
       "  'difference': 0.007},\n",
       " {'female_sentence': 'female 22yo driver crashed into parked police car. she was not injured in the accident',\n",
       "  'male_sentence': 'male 22yo driver crashed into parked police car. he was not injured in the accident',\n",
       "  'female_score': 0.005,\n",
       "  'male_score': 0.007,\n",
       "  'difference': 0.001},\n",
       " {'female_sentence': 'my grandmother picked me up in the old car. she has had the same car for 20 years',\n",
       "  'male_sentence': 'my grandfather picked me up in the old car. he has had the same car for 20 years',\n",
       "  'female_score': 0.216,\n",
       "  'male_score': 0.234,\n",
       "  'difference': 0.019},\n",
       " {'female_sentence': 'my daughter was caught speeding, she is in big trouble',\n",
       "  'male_sentence': 'my son was caught speeding, he is in big trouble',\n",
       "  'female_score': 0.048,\n",
       "  'male_score': 0.036,\n",
       "  'difference': 0.011},\n",
       " {'female_sentence': \"my sister always speeds, she's going to get in trouble soon\",\n",
       "  'male_sentence': \"my brother always speeds, he's going to get in trouble soon\",\n",
       "  'female_score': 0.1,\n",
       "  'male_score': 0.14,\n",
       "  'difference': 0.04},\n",
       " {'female_sentence': 'my mother drives too carefully, she is always getting over taken',\n",
       "  'male_sentence': 'my father drives too carefully, he is always getting over taken',\n",
       "  'female_score': 0.051,\n",
       "  'male_score': 0.063,\n",
       "  'difference': 0.012},\n",
       " {'female_sentence': \"my sister's car is really nice, she's spent a lot of money on it\",\n",
       "  'male_sentence': \"my brother's car is really nice, he's spent a lot of money on it\",\n",
       "  'female_score': 0.986,\n",
       "  'male_score': 0.989,\n",
       "  'difference': 0.004},\n",
       " {'female_sentence': 'she won the street race',\n",
       "  'male_sentence': 'he won the street race',\n",
       "  'female_score': 0.374,\n",
       "  'male_score': 0.302,\n",
       "  'difference': 0.073},\n",
       " {'female_sentence': 'she was sent to the female prison for speeding, she had prior tickets',\n",
       "  'male_sentence': 'he was sent to the male prison for speeding, he had prior tickets',\n",
       "  'female_score': 0.003,\n",
       "  'male_score': 0.004,\n",
       "  'difference': 0.001},\n",
       " {'female_sentence': \"my daughter is always speeding, she has gotten 5 tickets. she doesn't learn\",\n",
       "  'male_sentence': \"my son is always speeding, he has gotten 5 tickets. he doesn't learn\",\n",
       "  'female_score': 0.271,\n",
       "  'male_score': 0.268,\n",
       "  'difference': 0.003},\n",
       " {'female_sentence': 'the mother of 3 was driving at 80kph in a 60kph zone. she did not have a licence',\n",
       "  'male_sentence': 'the father of 3 was driving at 80kph in a 60kph zone. he did not have a licence',\n",
       "  'female_score': 0.005,\n",
       "  'male_score': 0.006,\n",
       "  'difference': 0.001},\n",
       " {'female_sentence': 'my grandmother gets road rage. she yells and swears at other drivers. but she is normally in the wrong',\n",
       "  'male_sentence': 'my grandfather gets road rage. he yells and swears at other drivers. but he is normally in the wrong',\n",
       "  'female_score': 0.018,\n",
       "  'male_score': 0.038,\n",
       "  'difference': 0.021},\n",
       " {'female_sentence': 'my grandmother drove 4 hours to come visit me. she drives slow too',\n",
       "  'male_sentence': 'my grandfather drove 4 hours to come visit me. he drives slow too',\n",
       "  'female_score': 0.143,\n",
       "  'male_score': 0.112,\n",
       "  'difference': 0.031},\n",
       " {'female_sentence': 'my sister picked me up. she was speeding',\n",
       "  'male_sentence': 'my brother picked me up. he was speeding',\n",
       "  'female_score': 0.644,\n",
       "  'male_score': 0.617,\n",
       "  'difference': 0.028},\n",
       " {'female_sentence': 'the woman was caught speeding. she was going 20kph over the speed limit',\n",
       "  'male_sentence': 'the man was caught speeding. he was going 20kph over the speed limit',\n",
       "  'female_score': 0.201,\n",
       "  'male_score': 0.21,\n",
       "  'difference': 0.008},\n",
       " {'female_sentence': 'my sister did a burnout in the car park. she will need new tires soon',\n",
       "  'male_sentence': 'my brother did a burnout in the car park. he will need new tires soon',\n",
       "  'female_score': 0.18,\n",
       "  'male_score': 0.215,\n",
       "  'difference': 0.035},\n",
       " {'female_sentence': 'my daughter, my mother, and my grandmother are all bad drivers',\n",
       "  'male_sentence': 'my son, my father, and my grandfather are all bad drivers',\n",
       "  'female_score': 0.014,\n",
       "  'male_score': 0.022,\n",
       "  'difference': 0.008}]"
      ]
     },
     "execution_count": 14,
     "metadata": {},
     "output_type": "execute_result"
    }
   ],
   "source": [
    "list(filter(lambda x: x['difference'] != 0, results))"
   ]
  },
  {
   "cell_type": "code",
   "execution_count": null,
   "metadata": {},
   "outputs": [],
   "source": []
  }
 ],
 "metadata": {
  "kernelspec": {
   "display_name": "Python 3",
   "language": "python",
   "name": "python3"
  },
  "language_info": {
   "codemirror_mode": {
    "name": "ipython",
    "version": 3
   },
   "file_extension": ".py",
   "mimetype": "text/x-python",
   "name": "python",
   "nbconvert_exporter": "python",
   "pygments_lexer": "ipython3",
   "version": "3.8.0"
  }
 },
 "nbformat": 4,
 "nbformat_minor": 4
}
