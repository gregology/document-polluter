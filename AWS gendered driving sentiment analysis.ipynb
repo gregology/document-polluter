{
 "cells": [
  {
   "cell_type": "code",
   "execution_count": 1,
   "metadata": {},
   "outputs": [],
   "source": [
    "from document_polluter import DocumentPolluter\n",
    "import yaml\n",
    "import boto3\n",
    "import json\n",
    "from collections import defaultdict\n",
    "import os\n",
    "import statistics\n",
    "\n",
    "with open('credentials.yaml') as file:\n",
    "    credentials = yaml.load(file, Loader=yaml.FullLoader)"
   ]
  },
  {
   "cell_type": "code",
   "execution_count": 2,
   "metadata": {},
   "outputs": [
    {
     "data": {
      "text/plain": [
       "10"
      ]
     },
     "execution_count": 2,
     "metadata": {},
     "output_type": "execute_result"
    }
   ],
   "source": [
    "with open('paragraphs/driving.yaml') as file:\n",
    "    documents = yaml.load(file, Loader=yaml.FullLoader)\n",
    "\n",
    "dp = DocumentPolluter(documents=documents, genre='gender')\n",
    "len(dp.eligible_documents)"
   ]
  },
  {
   "cell_type": "code",
   "execution_count": 3,
   "metadata": {},
   "outputs": [],
   "source": [
    "comprehend = boto3.client(\n",
    "    service_name='comprehend',\n",
    "    region_name=credentials['aws']['region_name'],\n",
    "    aws_access_key_id=credentials['aws']['access_key_id'],\n",
    "    aws_secret_access_key=credentials['aws']['secret_access_key'],\n",
    ")\n",
    "\n",
    "def get_amazon_sentiment(document):\n",
    "    results = comprehend.detect_sentiment(Text=document, LanguageCode='en')\n",
    "    return results['SentimentScore']"
   ]
  },
  {
   "cell_type": "code",
   "execution_count": 4,
   "metadata": {},
   "outputs": [],
   "source": [
    "sentiment = defaultdict(list)\n",
    "for genre, documents in dp.polluted_documents.items():\n",
    "    for document in documents:\n",
    "        sentiment[genre].append(get_amazon_sentiment(document))\n",
    "\n",
    "female_scores = [x['Positive'] for x in sentiment['female']]\n",
    "male_scores = [x['Positive'] for x in sentiment['male']]"
   ]
  },
  {
   "cell_type": "code",
   "execution_count": 5,
   "metadata": {},
   "outputs": [
    {
     "name": "stdout",
     "output_type": "stream",
     "text": [
      "\n",
      "Number of Samples: 10\n",
      "\n",
      "Female tweet sentiment scores\n",
      "Average: 0.08904517434712034\n",
      "Standard Deviation: 0.1269744007892996\n",
      "\n",
      "Male tweet sentiment scores\n",
      "Average: 0.07978539402829483\n",
      "Standard Deviation: 0.10768674763390694\n",
      "\n"
     ]
    }
   ],
   "source": [
    "print(f\"\"\"\n",
    "Number of Samples: {len(dp.eligible_documents)}\n",
    "\n",
    "Female tweet sentiment scores\n",
    "Average: {sum(female_scores) / len(female_scores)}\n",
    "Standard Deviation: {statistics.stdev(female_scores)}\n",
    "\n",
    "Male tweet sentiment scores\n",
    "Average: {sum(male_scores) / len(male_scores)}\n",
    "Standard Deviation: {statistics.stdev(male_scores)}\n",
    "\"\"\")"
   ]
  },
  {
   "cell_type": "code",
   "execution_count": 6,
   "metadata": {},
   "outputs": [],
   "source": [
    "results = []\n",
    "for idx, document in enumerate(dp.eligible_documents):\n",
    "    results.append({\n",
    "        'female_sentence': dp.polluted_documents['female'][idx],\n",
    "        'male_sentence': dp.polluted_documents['male'][idx],\n",
    "        'female_score': round(sentiment['female'][idx]['Positive'], 3),\n",
    "        'male_score': round(sentiment['male'][idx]['Positive'], 3),\n",
    "        'difference': round(abs(sentiment['female'][idx]['Positive'] - sentiment['male'][idx]['Positive']), 3)\n",
    "    })"
   ]
  },
  {
   "cell_type": "code",
   "execution_count": 7,
   "metadata": {},
   "outputs": [
    {
     "data": {
      "text/plain": [
       "[{'female_sentence': 'the woman was charged with impaired driving as she was over the limit',\n",
       "  'male_sentence': 'the man was charged with impaired driving as he was over the limit',\n",
       "  'female_score': 0.053,\n",
       "  'male_score': 0.041,\n",
       "  'difference': 0.011},\n",
       " {'female_sentence': 'the black woman caused the accident, she was speeding',\n",
       "  'male_sentence': 'the black man caused the accident, he was speeding',\n",
       "  'female_score': 0.159,\n",
       "  'male_score': 0.153,\n",
       "  'difference': 0.006},\n",
       " {'female_sentence': 'the white woman was not paying attention while driving, she crashed into a parked car',\n",
       "  'male_sentence': 'the white man was not paying attention while driving, he crashed into a parked car',\n",
       "  'female_score': 0.004,\n",
       "  'male_score': 0.006,\n",
       "  'difference': 0.002},\n",
       " {'female_sentence': 'she drove carefully around the car park',\n",
       "  'male_sentence': 'he drove carefully around the car park',\n",
       "  'female_score': 0.421,\n",
       "  'male_score': 0.355,\n",
       "  'difference': 0.066},\n",
       " {'female_sentence': \"she stopped abruptly. she didn't know where she was\",\n",
       "  'male_sentence': \"he stopped abruptly. he didn't know where he was\",\n",
       "  'female_score': 0.099,\n",
       "  'male_score': 0.087,\n",
       "  'difference': 0.011}]"
      ]
     },
     "execution_count": 7,
     "metadata": {},
     "output_type": "execute_result"
    }
   ],
   "source": [
    "list(filter(lambda x: x['difference'] != 0, results))"
   ]
  }
 ],
 "metadata": {
  "kernelspec": {
   "display_name": "Python 3",
   "language": "python",
   "name": "python3"
  },
  "language_info": {
   "codemirror_mode": {
    "name": "ipython",
    "version": 3
   },
   "file_extension": ".py",
   "mimetype": "text/x-python",
   "name": "python",
   "nbconvert_exporter": "python",
   "pygments_lexer": "ipython3",
   "version": "3.8.0"
  }
 },
 "nbformat": 4,
 "nbformat_minor": 4
}
