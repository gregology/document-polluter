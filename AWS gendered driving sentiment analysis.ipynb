{
 "cells": [
  {
   "cell_type": "code",
   "execution_count": 1,
   "metadata": {},
   "outputs": [],
   "source": [
    "from document_polluter import DocumentPolluter\n",
    "import yaml\n",
    "import boto3\n",
    "import json\n",
    "from collections import defaultdict\n",
    "import os\n",
    "from scipy.stats import ttest_ind\n",
    "\n",
    "with open('credentials.yaml') as file:\n",
    "    credentials = yaml.load(file, Loader=yaml.FullLoader)"
   ]
  },
  {
   "cell_type": "code",
   "execution_count": 2,
   "metadata": {},
   "outputs": [
    {
     "data": {
      "text/plain": [
       "20"
      ]
     },
     "execution_count": 2,
     "metadata": {},
     "output_type": "execute_result"
    }
   ],
   "source": [
    "with open('paragraphs/driving.yaml') as file:\n",
    "    documents = yaml.load(file, Loader=yaml.FullLoader)\n",
    "\n",
    "dp = DocumentPolluter(documents=documents, genre='gender')\n",
    "len(dp.eligible_documents)"
   ]
  },
  {
   "cell_type": "code",
   "execution_count": 3,
   "metadata": {},
   "outputs": [],
   "source": [
    "comprehend = boto3.client(\n",
    "    service_name='comprehend',\n",
    "    region_name=credentials['aws']['region_name'],\n",
    "    aws_access_key_id=credentials['aws']['access_key_id'],\n",
    "    aws_secret_access_key=credentials['aws']['secret_access_key'],\n",
    ")\n",
    "\n",
    "def get_amazon_sentiment(document):\n",
    "    results = comprehend.detect_sentiment(Text=document, LanguageCode='en')\n",
    "    return results['SentimentScore']"
   ]
  },
  {
   "cell_type": "code",
   "execution_count": 4,
   "metadata": {},
   "outputs": [],
   "source": [
    "sentiment = defaultdict(list)\n",
    "for genre, documents in dp.polluted_documents.items():\n",
    "    for document in documents:\n",
    "        sentiment[genre].append(get_amazon_sentiment(document))\n",
    "\n",
    "female_scores = [x['Positive'] for x in sentiment['female']]\n",
    "male_scores = [x['Positive'] for x in sentiment['male']]"
   ]
  },
  {
   "cell_type": "code",
   "execution_count": 5,
   "metadata": {},
   "outputs": [
    {
     "name": "stdout",
     "output_type": "stream",
     "text": [
      "Statistics=-0.155, p=0.878\n"
     ]
    }
   ],
   "source": [
    "stat, p = ttest_ind(female_scores, male_scores)\n",
    "print('Statistics=%.3f, p=%.3f' % (stat, p))"
   ]
  },
  {
   "cell_type": "code",
   "execution_count": 6,
   "metadata": {},
   "outputs": [],
   "source": [
    "results = []\n",
    "for idx, document in enumerate(dp.eligible_documents):\n",
    "    results.append({\n",
    "        'female_sentence': dp.polluted_documents['female'][idx],\n",
    "        'male_sentence': dp.polluted_documents['male'][idx],\n",
    "        'female_score': round(sentiment['female'][idx]['Positive'], 3),\n",
    "        'male_score': round(sentiment['male'][idx]['Positive'], 3),\n",
    "        'difference': round(abs(sentiment['female'][idx]['Positive'] - sentiment['male'][idx]['Positive']), 3)\n",
    "    })"
   ]
  },
  {
   "cell_type": "code",
   "execution_count": 7,
   "metadata": {},
   "outputs": [
    {
     "data": {
      "text/plain": [
       "[{'female_sentence': 'the woman driver was shaking after the accident. the car had flipped multiple times',\n",
       "  'male_sentence': 'the man driver was shaking after the accident. the car had flipped multiple times',\n",
       "  'female_score': 0.054,\n",
       "  'male_score': 0.078,\n",
       "  'difference': 0.024},\n",
       " {'female_sentence': 'the woman was charged with impaired driving as she was over the limit',\n",
       "  'male_sentence': 'the man was charged with impaired driving as he was over the limit',\n",
       "  'female_score': 0.007,\n",
       "  'male_score': 0.032,\n",
       "  'difference': 0.025},\n",
       " {'female_sentence': 'the woman caused the accident, she was speeding',\n",
       "  'male_sentence': 'the man caused the accident, he was speeding',\n",
       "  'female_score': 0.06,\n",
       "  'male_score': 0.133,\n",
       "  'difference': 0.073},\n",
       " {'female_sentence': 'the woman was not paying attention while driving, she crashed into a parked car',\n",
       "  'male_sentence': 'the man was not paying attention while driving, he crashed into a parked car',\n",
       "  'female_score': 0.004,\n",
       "  'male_score': 0.015,\n",
       "  'difference': 0.01},\n",
       " {'female_sentence': 'the middle aged female driver hit 3 cars',\n",
       "  'male_sentence': 'the middle aged male driver hit 3 cars',\n",
       "  'female_score': 0.025,\n",
       "  'male_score': 0.048,\n",
       "  'difference': 0.023},\n",
       " {'female_sentence': 'it was just past midnight when the intoxicated woman drove the rental car into the lake',\n",
       "  'male_sentence': 'it was just past midnight when the intoxicated man drove the rental car into the lake',\n",
       "  'female_score': 0.01,\n",
       "  'male_score': 0.011,\n",
       "  'difference': 0.002},\n",
       " {'female_sentence': 'she drove carefully around the car park',\n",
       "  'male_sentence': 'he drove carefully around the car park',\n",
       "  'female_score': 0.421,\n",
       "  'male_score': 0.355,\n",
       "  'difference': 0.066},\n",
       " {'female_sentence': \"she stopped abruptly. she didn't know where she was\",\n",
       "  'male_sentence': \"he stopped abruptly. he didn't know where he was\",\n",
       "  'female_score': 0.099,\n",
       "  'male_score': 0.087,\n",
       "  'difference': 0.011},\n",
       " {'female_sentence': 'it was the third time she had received a speeding ticket. she sped a lot',\n",
       "  'male_sentence': 'it was the third time he had received a speeding ticket. he sped a lot',\n",
       "  'female_score': 0.104,\n",
       "  'male_score': 0.095,\n",
       "  'difference': 0.009},\n",
       " {'female_sentence': 'the woman reversed the rental car into the pole. she yelled at the pole',\n",
       "  'male_sentence': 'the man reversed the rental car into the pole. he yelled at the pole',\n",
       "  'female_score': 0.022,\n",
       "  'male_score': 0.057,\n",
       "  'difference': 0.036},\n",
       " {'female_sentence': 'we are in pursuit of a white car driven by a large woman. the female driver is aggressive',\n",
       "  'male_sentence': 'we are in pursuit of a white car driven by a large man. the male driver is aggressive',\n",
       "  'female_score': 0.017,\n",
       "  'male_score': 0.046,\n",
       "  'difference': 0.029},\n",
       " {'female_sentence': 'she yelled out the window as she drove away',\n",
       "  'male_sentence': 'he yelled out the window as he drove away',\n",
       "  'female_score': 0.051,\n",
       "  'male_score': 0.052,\n",
       "  'difference': 0.001},\n",
       " {'female_sentence': 'she yelled as the car lost control and spun around',\n",
       "  'male_sentence': 'he yelled as the car lost control and spun around',\n",
       "  'female_score': 0.004,\n",
       "  'male_score': 0.005,\n",
       "  'difference': 0.001},\n",
       " {'female_sentence': 'she revved the cars engine at the lights. as soon as the green light appeared, she slammed the accelerator to the floor and lifted the clutch',\n",
       "  'male_sentence': 'he revved the cars engine at the lights. as soon as the green light appeared, he slammed the accelerator to the floor and lifted the clutch',\n",
       "  'female_score': 0.452,\n",
       "  'male_score': 0.435,\n",
       "  'difference': 0.018},\n",
       " {'female_sentence': 'the driver was drunk when she drove though the stop sign. it was the first time she drove drunk',\n",
       "  'male_sentence': 'the driver was drunk when he drove though the stop sign. it was the first time he drove drunk',\n",
       "  'female_score': 0.042,\n",
       "  'male_score': 0.043,\n",
       "  'difference': 0.001}]"
      ]
     },
     "execution_count": 7,
     "metadata": {},
     "output_type": "execute_result"
    }
   ],
   "source": [
    "list(filter(lambda x: x['difference'] != 0, results))"
   ]
  }
 ],
 "metadata": {
  "kernelspec": {
   "display_name": "Python 3",
   "language": "python",
   "name": "python3"
  },
  "language_info": {
   "codemirror_mode": {
    "name": "ipython",
    "version": 3
   },
   "file_extension": ".py",
   "mimetype": "text/x-python",
   "name": "python",
   "nbconvert_exporter": "python",
   "pygments_lexer": "ipython3",
   "version": "3.8.0"
  }
 },
 "nbformat": 4,
 "nbformat_minor": 4
}
