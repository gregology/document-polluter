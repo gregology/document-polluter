{
 "cells": [
  {
   "cell_type": "code",
   "execution_count": 117,
   "metadata": {},
   "outputs": [],
   "source": [
    "from document_polluter import DocumentPolluterError\n",
    "import yaml\n",
    "import os\n",
    "import tweepy\n",
    "import requests\n",
    "import json\n",
    "from collections import defaultdict\n",
    "import statistics\n",
    "\n",
    "with open('credentials.yaml') as file:\n",
    "    credentials = yaml.load(file, Loader=yaml.FullLoader)"
   ]
  },
  {
   "cell_type": "code",
   "execution_count": 49,
   "metadata": {},
   "outputs": [],
   "source": [
    "auth = tweepy.OAuthHandler(credentials['twitter']['api_key'], credentials['twitter']['api_secret_key'])\n",
    "auth.set_access_token(credentials['twitter']['access_token'], credentials['twitter']['access_token_secret'])\n",
    "\n",
    "api = tweepy.API(auth, wait_on_rate_limit=True)\n",
    "\n",
    "documents = []\n",
    "for tweet in tweepy.Cursor(api.search, q='the', lang='en').items(2000):\n",
    "    documents.append(tweet.text)"
   ]
  },
  {
   "cell_type": "code",
   "execution_count": 51,
   "metadata": {},
   "outputs": [
    {
     "data": {
      "text/plain": [
       "199"
      ]
     },
     "execution_count": 51,
     "metadata": {},
     "output_type": "execute_result"
    }
   ],
   "source": [
    "dp = DocumentPolluter(documents=documents, genre='gender')\n",
    "len(dp.eligible_documents)"
   ]
  },
  {
   "cell_type": "code",
   "execution_count": 88,
   "metadata": {},
   "outputs": [],
   "source": [
    "def get_google_sentiment(document):\n",
    "    url = f\"https://language.googleapis.com/v1/documents:analyzeSentiment?key={credentials['google']['key']}\"\n",
    "    headers = {'content-type': 'application/json'}\n",
    "    data = {\n",
    "      'document': {\n",
    "        'type': 'PLAIN_TEXT',\n",
    "        'content': document\n",
    "      }\n",
    "    }\n",
    "\n",
    "    r = requests.post(url=url, data=json.dumps(data), headers=headers)\n",
    "    return json.loads(r.text)['documentSentiment']"
   ]
  },
  {
   "cell_type": "code",
   "execution_count": 104,
   "metadata": {},
   "outputs": [],
   "source": [
    "sentiment = defaultdict(list)\n",
    "for genre, documents in dp.polluted_documents.items():\n",
    "    for document in documents:\n",
    "        sentiment[genre].append(get_google_sentiment(document))\n",
    "\n",
    "female_scores = [x['score'] for x in sentiment['female']]\n",
    "male_scores = [x['score'] for x in sentiment['male']]"
   ]
  },
  {
   "cell_type": "code",
   "execution_count": 111,
   "metadata": {},
   "outputs": [],
   "source": [
    "female_scores = [x['score'] for x in sentiment['female']]\n",
    "male_scores = [x['score'] for x in sentiment['male']]"
   ]
  },
  {
   "cell_type": "code",
   "execution_count": 134,
   "metadata": {},
   "outputs": [
    {
     "name": "stdout",
     "output_type": "stream",
     "text": [
      "\n",
      "Number of Samples: 199\n",
      "\n",
      "Female tweet sentiment scores\n",
      "Average: -0.01758793969849245\n",
      "Standard Deviation: 0.36878480634262584\n",
      "Sample: rt @daaslalit: #worldsavior_saintrampalji \n",
      "the great soul has already taken birth in a small rural family. she will be regarded as the most…\n",
      "Score: {'magnitude': 1, 'score': 0.5}\n",
      "\n",
      "Male tweet sentiment scores\n",
      "Average: -0.014070351758793955\n",
      "Standard Deviation: 0.3853412695462714\n",
      "Sample: rt @daaslalit: #worldsavior_saintrampalji \n",
      "the great soul has already taken birth in a small rural family. he will be regarded as the most…\n",
      "Score: {'magnitude': 0.8, 'score': 0.8}\n",
      "\n"
     ]
    }
   ],
   "source": [
    "print(f\"\"\"\n",
    "Number of Samples: {len(dp.eligible_documents)}\n",
    "\n",
    "Female tweet sentiment scores\n",
    "Average: {sum(female_scores) / len(female_scores)}\n",
    "Standard Deviation: {statistics.stdev(female_scores)}\n",
    "Sample: {dp.polluted_documents['female'][1]}\n",
    "Score: {sentiment['female'][1]}\n",
    "\n",
    "Male tweet sentiment scores\n",
    "Average: {sum(male_scores) / len(male_scores)}\n",
    "Standard Deviation: {statistics.stdev(male_scores)}\n",
    "Sample: {dp.polluted_documents['male'][1]}\n",
    "Score: {sentiment['male'][1]}\n",
    "\"\"\")"
   ]
  },
  {
   "cell_type": "markdown",
   "metadata": {},
   "source": [
    "Number of Samples: 199\n",
    "\n",
    "Female tweet sentiment scores\n",
    "Average: -0.01758793969849245\n",
    "Standard Deviation: 0.36878480634262584\n",
    "Sample: rt @daaslalit: #worldsavior_saintrampalji \n",
    "the great soul has already taken birth in a small rural family. she will be regarded as the most…\n",
    "Score: {'magnitude': 1, 'score': 0.5}\n",
    "\n",
    "Male tweet sentiment scores\n",
    "Average: -0.014070351758793955\n",
    "Standard Deviation: 0.3853412695462714\n",
    "Sample: rt @daaslalit: #worldsavior_saintrampalji \n",
    "the great soul has already taken birth in a small rural family. he will be regarded as the most…\n",
    "Score: {'magnitude': 0.8, 'score': 0.8}"
   ]
  }
 ],
 "metadata": {
  "kernelspec": {
   "display_name": "Python 3",
   "language": "python",
   "name": "python3"
  },
  "language_info": {
   "codemirror_mode": {
    "name": "ipython",
    "version": 3
   },
   "file_extension": ".py",
   "mimetype": "text/x-python",
   "name": "python",
   "nbconvert_exporter": "python",
   "pygments_lexer": "ipython3",
   "version": "3.8.0"
  }
 },
 "nbformat": 4,
 "nbformat_minor": 4
}
