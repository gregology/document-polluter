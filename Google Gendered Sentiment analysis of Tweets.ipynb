{
 "cells": [
  {
   "cell_type": "code",
   "execution_count": 4,
   "metadata": {},
   "outputs": [],
   "source": [
    "from document_polluter import DocumentPolluter\n",
    "import yaml\n",
    "import os\n",
    "import tweepy\n",
    "import requests\n",
    "import json\n",
    "from collections import defaultdict\n",
    "import statistics\n",
    "\n",
    "with open('credentials.yaml') as file:\n",
    "    credentials = yaml.load(file, Loader=yaml.FullLoader)"
   ]
  },
  {
   "cell_type": "code",
   "execution_count": 2,
   "metadata": {},
   "outputs": [],
   "source": [
    "auth = tweepy.OAuthHandler(credentials['twitter']['api_key'], credentials['twitter']['api_secret_key'])\n",
    "auth.set_access_token(credentials['twitter']['access_token'], credentials['twitter']['access_token_secret'])\n",
    "\n",
    "api = tweepy.API(auth, wait_on_rate_limit=True)\n",
    "\n",
    "documents = []\n",
    "for tweet in tweepy.Cursor(api.search, q='the', lang='en').items(5000):\n",
    "    documents.append(tweet.text)"
   ]
  },
  {
   "cell_type": "code",
   "execution_count": 5,
   "metadata": {},
   "outputs": [
    {
     "data": {
      "text/plain": [
       "386"
      ]
     },
     "execution_count": 5,
     "metadata": {},
     "output_type": "execute_result"
    }
   ],
   "source": [
    "dp = DocumentPolluter(documents=documents, genre='gender')\n",
    "len(dp.eligible_documents)"
   ]
  },
  {
   "cell_type": "code",
   "execution_count": 6,
   "metadata": {},
   "outputs": [],
   "source": [
    "def get_google_sentiment(document):\n",
    "    url = f\"https://language.googleapis.com/v1/documents:analyzeSentiment?key={credentials['google']['key']}\"\n",
    "    headers = {'content-type': 'application/json'}\n",
    "    data = {\n",
    "      'document': {\n",
    "        'type': 'PLAIN_TEXT',\n",
    "        'content': document\n",
    "      }\n",
    "    }\n",
    "\n",
    "    r = requests.post(url=url, data=json.dumps(data), headers=headers)\n",
    "    return json.loads(r.text)['documentSentiment']"
   ]
  },
  {
   "cell_type": "code",
   "execution_count": 7,
   "metadata": {},
   "outputs": [],
   "source": [
    "sentiment = defaultdict(list)\n",
    "for genre, documents in dp.polluted_documents.items():\n",
    "    for document in documents:\n",
    "        sentiment[genre].append(get_google_sentiment(document))\n",
    "\n",
    "female_scores = [x['score'] for x in sentiment['female']]\n",
    "male_scores = [x['score'] for x in sentiment['male']]"
   ]
  },
  {
   "cell_type": "code",
   "execution_count": 8,
   "metadata": {},
   "outputs": [],
   "source": [
    "female_scores = [x['score'] for x in sentiment['female']]\n",
    "male_scores = [x['score'] for x in sentiment['male']]"
   ]
  },
  {
   "cell_type": "code",
   "execution_count": 16,
   "metadata": {},
   "outputs": [
    {
     "name": "stdout",
     "output_type": "stream",
     "text": [
      "\n",
      "Number of Samples: 386\n",
      "\n",
      "Female tweet sentiment scores\n",
      "Average: 0.0645077720207254\n",
      "Standard Deviation: 0.3916125718525202\n",
      "Sample: rt @believeacoustic: the vocals on changes the track whew its like purpose the track’s better looking sister\n",
      "Score: 0.7\n",
      "\n",
      "Male tweet sentiment scores\n",
      "Average: 0.06761658031088082\n",
      "Standard Deviation: 0.41185423992616427\n",
      "Sample: rt @believeacoustic: the vocals on changes the track whew its like purpose the track’s better looking brother\n",
      "Score: 0.6\n",
      "\n"
     ]
    }
   ],
   "source": [
    "print(f\"\"\"\n",
    "Number of Samples: {len(dp.eligible_documents)}\n",
    "\n",
    "Female tweet sentiment scores\n",
    "Average: {sum(female_scores) / len(female_scores)}\n",
    "Standard Deviation: {statistics.stdev(female_scores)}\n",
    "Sample: {dp.polluted_documents['female'][10]}\n",
    "Score: {sentiment['female'][10]['score']}\n",
    "\n",
    "Male tweet sentiment scores\n",
    "Average: {sum(male_scores) / len(male_scores)}\n",
    "Standard Deviation: {statistics.stdev(male_scores)}\n",
    "Sample: {dp.polluted_documents['male'][10]}\n",
    "Score: {sentiment['male'][10]['score']}\n",
    "\"\"\")"
   ]
  },
  {
   "cell_type": "code",
   "execution_count": null,
   "metadata": {},
   "outputs": [],
   "source": []
  }
 ],
 "metadata": {
  "kernelspec": {
   "display_name": "Python 3",
   "language": "python",
   "name": "python3"
  },
  "language_info": {
   "codemirror_mode": {
    "name": "ipython",
    "version": 3
   },
   "file_extension": ".py",
   "mimetype": "text/x-python",
   "name": "python",
   "nbconvert_exporter": "python",
   "pygments_lexer": "ipython3",
   "version": "3.8.0"
  }
 },
 "nbformat": 4,
 "nbformat_minor": 4
}
