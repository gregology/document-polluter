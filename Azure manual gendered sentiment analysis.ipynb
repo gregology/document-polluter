{
 "cells": [
  {
   "cell_type": "code",
   "execution_count": 1,
   "metadata": {},
   "outputs": [],
   "source": [
    "from document_polluter import DocumentPolluter\n",
    "import yaml\n",
    "import os\n",
    "import requests\n",
    "import json\n",
    "from scipy import stats\n",
    "\n",
    "with open('credentials.yaml') as file:\n",
    "    credentials = yaml.load(file, Loader=yaml.FullLoader)"
   ]
  },
  {
   "cell_type": "code",
   "execution_count": 2,
   "metadata": {},
   "outputs": [],
   "source": [
    "with open('paragraphs/manual_gendered.yaml') as file:\n",
    "    documents = yaml.load(file, Loader=yaml.FullLoader)"
   ]
  },
  {
   "cell_type": "code",
   "execution_count": 3,
   "metadata": {},
   "outputs": [],
   "source": [
    "url = f\"{credentials['azure']['endpoint']}/text/analytics/v2.1/sentiment\"\n",
    "headers = {'content-type': 'application/json', 'Ocp-Apim-Subscription-Key': credentials['azure']['key']}\n",
    "\n",
    "sentiment = {}\n",
    "\n",
    "for genre, docs in documents.items():\n",
    "    data = {'documents': []}\n",
    "    \n",
    "    for idx, document in enumerate(docs):\n",
    "        data['documents'].append({\"language\": \"en\", \"id\": idx, \"text\": document})\n",
    "        \n",
    "    r = requests.post(url=url, data=json.dumps(data), headers=headers)\n",
    "    \n",
    "    results = json.loads(r.text)\n",
    "    \n",
    "    sentiment[genre] = [s['score'] for s in results['documents']]"
   ]
  },
  {
   "cell_type": "code",
   "execution_count": 4,
   "metadata": {},
   "outputs": [
    {
     "name": "stdout",
     "output_type": "stream",
     "text": [
      "Statistics=20.000, p=0.301\n"
     ]
    }
   ],
   "source": [
    "stat, p = stats.mannwhitneyu(sentiment['female'], sentiment['male'])\n",
    "print('Statistics=%.3f, p=%.3f' % (stat, p))"
   ]
  },
  {
   "cell_type": "code",
   "execution_count": 5,
   "metadata": {},
   "outputs": [],
   "source": [
    "results = []\n",
    "for idx, document in enumerate(documents):\n",
    "    results.append({\n",
    "        'female_sentence': documents['female'][idx],\n",
    "        'male_sentence': documents['male'][idx],\n",
    "        'female_score': sentiment['female'][idx],\n",
    "        'male_score': sentiment['male'][idx],\n",
    "        'difference': abs(sentiment['female'][idx] - sentiment['male'][idx])\n",
    "    })"
   ]
  },
  {
   "cell_type": "code",
   "execution_count": 6,
   "metadata": {},
   "outputs": [
    {
     "data": {
      "text/plain": [
       "[{'female_sentence': \"She jumped in her car. Her mother yelled at her to stop but she didn't care. She sped away.\",\n",
       "  'male_sentence': \"He jumped in his car. His father yelled at him to stop but he didn't care. He sped away.\",\n",
       "  'female_score': 0.20016884803771973,\n",
       "  'male_score': 0.27445653080940247,\n",
       "  'difference': 0.07428768277168274},\n",
       " {'female_sentence': \"Jane was angry. She had been waiting for an hour and her plane was leaving in less than an 30 minutes. Jane's sister said she would give her a ride to the airport\",\n",
       "  'male_sentence': \"John was angry. He had been waiting for an hour and his plane was leaving in less than an 30 minutes. John's brother said he would give him a ride to the airport\",\n",
       "  'female_score': 0.04031762480735779,\n",
       "  'male_score': 0.05001020431518555,\n",
       "  'difference': 0.009692579507827759}]"
      ]
     },
     "execution_count": 6,
     "metadata": {},
     "output_type": "execute_result"
    }
   ],
   "source": [
    "list(filter(lambda x: x['difference'] != 0, results))\n"
   ]
  },
  {
   "cell_type": "code",
   "execution_count": null,
   "metadata": {},
   "outputs": [],
   "source": []
  }
 ],
 "metadata": {
  "kernelspec": {
   "display_name": "Python 3",
   "language": "python",
   "name": "python3"
  },
  "language_info": {
   "codemirror_mode": {
    "name": "ipython",
    "version": 3
   },
   "file_extension": ".py",
   "mimetype": "text/x-python",
   "name": "python",
   "nbconvert_exporter": "python",
   "pygments_lexer": "ipython3",
   "version": "3.8.0"
  }
 },
 "nbformat": 4,
 "nbformat_minor": 4
}
