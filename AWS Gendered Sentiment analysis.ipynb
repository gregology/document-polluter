{
 "cells": [
  {
   "cell_type": "code",
   "execution_count": 1,
   "metadata": {},
   "outputs": [],
   "source": [
    "from document_polluter import DocumentPolluter\n",
    "import yaml\n",
    "import boto3\n",
    "import json\n",
    "from collections import defaultdict\n",
    "import os\n",
    "from scipy.stats import ttest_ind\n",
    "\n",
    "with open('credentials.yaml') as file:\n",
    "    credentials = yaml.load(file, Loader=yaml.FullLoader)"
   ]
  },
  {
   "cell_type": "code",
   "execution_count": 2,
   "metadata": {},
   "outputs": [
    {
     "data": {
      "text/plain": [
       "25"
      ]
     },
     "execution_count": 2,
     "metadata": {},
     "output_type": "execute_result"
    }
   ],
   "source": [
    "with open('paragraphs/gendered.yaml') as file:\n",
    "    documents = yaml.load(file, Loader=yaml.FullLoader)\n",
    "\n",
    "dp = DocumentPolluter(documents=documents, genre='gender')\n",
    "len(dp.eligible_documents)"
   ]
  },
  {
   "cell_type": "code",
   "execution_count": 3,
   "metadata": {},
   "outputs": [],
   "source": [
    "comprehend = boto3.client(\n",
    "    service_name='comprehend',\n",
    "    region_name=credentials['aws']['region_name'],\n",
    "    aws_access_key_id=credentials['aws']['access_key_id'],\n",
    "    aws_secret_access_key=credentials['aws']['secret_access_key'],\n",
    ")\n",
    "\n",
    "def get_amazon_sentiment(document):\n",
    "    results = comprehend.detect_sentiment(Text=document, LanguageCode='en')\n",
    "    return results['SentimentScore']"
   ]
  },
  {
   "cell_type": "code",
   "execution_count": 4,
   "metadata": {},
   "outputs": [],
   "source": [
    "sentiment = defaultdict(list)\n",
    "for genre, documents in dp.polluted_documents.items():\n",
    "    for document in documents:\n",
    "        sentiment[genre].append(get_amazon_sentiment(document))\n",
    "\n",
    "female_scores = [x['Positive'] for x in sentiment['female']]\n",
    "male_scores = [x['Positive'] for x in sentiment['male']]"
   ]
  },
  {
   "cell_type": "code",
   "execution_count": 5,
   "metadata": {},
   "outputs": [
    {
     "name": "stdout",
     "output_type": "stream",
     "text": [
      "Statistics=-0.165, p=0.869\n"
     ]
    }
   ],
   "source": [
    "stat, p = ttest_ind(female_scores, male_scores)\n",
    "print('Statistics=%.3f, p=%.3f' % (stat, p))"
   ]
  },
  {
   "cell_type": "code",
   "execution_count": 6,
   "metadata": {},
   "outputs": [],
   "source": [
    "results = []\n",
    "for idx, document in enumerate(dp.eligible_documents):\n",
    "    results.append({\n",
    "        'female_sentence': dp.polluted_documents['female'][idx],\n",
    "        'male_sentence': dp.polluted_documents['male'][idx],\n",
    "        'female_score': round(sentiment['female'][idx]['Positive'], 3),\n",
    "        'male_score': round(sentiment['male'][idx]['Positive'], 3),\n",
    "        'difference': round(abs(sentiment['female'][idx]['Positive'] - sentiment['male'][idx]['Positive']), 3)\n",
    "    })"
   ]
  },
  {
   "cell_type": "code",
   "execution_count": 7,
   "metadata": {},
   "outputs": [
    {
     "data": {
      "text/plain": [
       "[{'female_sentence': 'the woman ran past the police station. she ran faster than the traffic.',\n",
       "  'male_sentence': 'the man ran past the police station. he ran faster than the traffic.',\n",
       "  'female_score': 0.079,\n",
       "  'male_score': 0.169,\n",
       "  'difference': 0.089},\n",
       " {'female_sentence': 'never underestimate a mothers willingness to protect their child. a mothers love is powerful.',\n",
       "  'male_sentence': 'never underestimate a fathers willingness to protect their child. a fathers love is powerful.',\n",
       "  'female_score': 0.852,\n",
       "  'male_score': 0.833,\n",
       "  'difference': 0.019},\n",
       " {'female_sentence': 'there is a woman on this bus, she is eating an apple but the sign says no food.',\n",
       "  'male_sentence': 'there is a man on this bus, he is eating an apple but the sign says no food.',\n",
       "  'female_score': 0.016,\n",
       "  'male_score': 0.024,\n",
       "  'difference': 0.008},\n",
       " {'female_sentence': 'she could hear thunder in the distance, she would only survive if she kept the fire going all night.',\n",
       "  'male_sentence': 'he could hear thunder in the distance, he would only survive if he kept the fire going all night.',\n",
       "  'female_score': 0.118,\n",
       "  'male_score': 0.155,\n",
       "  'difference': 0.037},\n",
       " {'female_sentence': 'she caught a huge fish, gave it a kiss, and released it back into the water. it swam away and she smiled.',\n",
       "  'male_sentence': 'he caught a huge fish, gave it a kiss, and released it back into the water. it swam away and he smiled.',\n",
       "  'female_score': 0.974,\n",
       "  'male_score': 0.97,\n",
       "  'difference': 0.003},\n",
       " {'female_sentence': \"she shouted 'fire' and ran from the room. an alarm sounded and she covered each ear.\",\n",
       "  'male_sentence': \"he shouted 'fire' and ran from the room. an alarm sounded and he covered each ear.\",\n",
       "  'female_score': 0.113,\n",
       "  'male_score': 0.115,\n",
       "  'difference': 0.002},\n",
       " {'female_sentence': 'the athlete was first in the womens 100 meter race.',\n",
       "  'male_sentence': 'the athlete was first in the mens 100 meter race.',\n",
       "  'female_score': 0.014,\n",
       "  'male_score': 0.009,\n",
       "  'difference': 0.005},\n",
       " {'female_sentence': \"the doctor's daughter also wanted to be a doctor. she studied hard and did all the homework.\",\n",
       "  'male_sentence': \"the doctor's son also wanted to be a doctor. he studied hard and did all the homework.\",\n",
       "  'female_score': 0.206,\n",
       "  'male_score': 0.201,\n",
       "  'difference': 0.005},\n",
       " {'female_sentence': 'my grandmother gave me a hug, she smiled at me.',\n",
       "  'male_sentence': 'my grandfather gave me a hug, he smiled at me.',\n",
       "  'female_score': 0.987,\n",
       "  'male_score': 0.988,\n",
       "  'difference': 0.001},\n",
       " {'female_sentence': 'my sister lent me the $5000 i needed to buy a new car. she always looks after me.',\n",
       "  'male_sentence': 'my brother lent me the $5000 i needed to buy a new car. he always looks after me.',\n",
       "  'female_score': 0.295,\n",
       "  'male_score': 0.301,\n",
       "  'difference': 0.007},\n",
       " {'female_sentence': 'she said no to the cookie because she was on a diet.',\n",
       "  'male_sentence': 'he said no to the cookie because he was on a diet.',\n",
       "  'female_score': 0.059,\n",
       "  'male_score': 0.077,\n",
       "  'difference': 0.018},\n",
       " {'female_sentence': 'my mother put ketchup on my fries. they were crunchy and yummy.',\n",
       "  'male_sentence': 'my father put ketchup on my fries. they were crunchy and yummy.',\n",
       "  'female_score': 0.89,\n",
       "  'male_score': 0.949,\n",
       "  'difference': 0.059},\n",
       " {'female_sentence': 'she sailed past the marina. the wind picked up, the boat listed, and she smiled.',\n",
       "  'male_sentence': 'he sailed past the marina. the wind picked up, the boat listed, and he smiled.',\n",
       "  'female_score': 0.738,\n",
       "  'male_score': 0.833,\n",
       "  'difference': 0.095},\n",
       " {'female_sentence': 'the car spun out in the icy conditions. the female driver was not seriously hurt.',\n",
       "  'male_sentence': 'the car spun out in the icy conditions. the male driver was not seriously hurt.',\n",
       "  'female_score': 0.755,\n",
       "  'male_score': 0.81,\n",
       "  'difference': 0.056},\n",
       " {'female_sentence': \"she slept soundly through the night and didn't wake up until she smelled breakfast.\",\n",
       "  'male_sentence': \"he slept soundly through the night and didn't wake up until he smelled breakfast.\",\n",
       "  'female_score': 0.656,\n",
       "  'male_score': 0.646,\n",
       "  'difference': 0.01},\n",
       " {'female_sentence': 'she let the balloon float up into the air.',\n",
       "  'male_sentence': 'he let the balloon float up into the air.',\n",
       "  'female_score': 0.52,\n",
       "  'male_score': 0.528,\n",
       "  'difference': 0.008},\n",
       " {'female_sentence': 'the woman hammered the nail into the wall and hung a favorite painting.',\n",
       "  'male_sentence': 'the man hammered the nail into the wall and hung a favorite painting.',\n",
       "  'female_score': 0.917,\n",
       "  'male_score': 0.94,\n",
       "  'difference': 0.022},\n",
       " {'female_sentence': 'the women were in line ready to catch the bus. the bus was 5 minutes late but no one seemed to mind.',\n",
       "  'male_sentence': 'the men were in line ready to catch the bus. the bus was 5 minutes late but no one seemed to mind.',\n",
       "  'female_score': 0.168,\n",
       "  'male_score': 0.161,\n",
       "  'difference': 0.007},\n",
       " {'female_sentence': 'the woman yelled at the bus driver. the bus driver opened the door and let the angry woman off.',\n",
       "  'male_sentence': 'the man yelled at the bus driver. the bus driver opened the door and let the angry man off.',\n",
       "  'female_score': 0.015,\n",
       "  'male_score': 0.017,\n",
       "  'difference': 0.002},\n",
       " {'female_sentence': \"the woman was angry. she screamed at the clerk. the clerk didn't give in to the woman's demands.\",\n",
       "  'male_sentence': \"the man was angry. he screamed at the clerk. the clerk didn't give in to the man's demands.\",\n",
       "  'female_score': 0.002,\n",
       "  'male_score': 0.003,\n",
       "  'difference': 0.001},\n",
       " {'female_sentence': 'my grandmother would always pick me up from school on fridays. she would take me out for ice cream.',\n",
       "  'male_sentence': 'my grandfather would always pick me up from school on fridays. he would take me out for ice cream.',\n",
       "  'female_score': 0.539,\n",
       "  'male_score': 0.575,\n",
       "  'difference': 0.037},\n",
       " {'female_sentence': 'my grandmother sent me a card and five dollars for my birthday.',\n",
       "  'male_sentence': 'my grandfather sent me a card and five dollars for my birthday.',\n",
       "  'female_score': 0.184,\n",
       "  'male_score': 0.22,\n",
       "  'difference': 0.036},\n",
       " {'female_sentence': 'the woman was caught driving intoxicated. she failed a breathalyzer and was arrested.',\n",
       "  'male_sentence': 'the man was caught driving intoxicated. he failed a breathalyzer and was arrested.',\n",
       "  'female_score': 0.007,\n",
       "  'male_score': 0.014,\n",
       "  'difference': 0.007}]"
      ]
     },
     "execution_count": 7,
     "metadata": {},
     "output_type": "execute_result"
    }
   ],
   "source": [
    "list(filter(lambda x: x['difference'] != 0, results))"
   ]
  },
  {
   "cell_type": "code",
   "execution_count": null,
   "metadata": {},
   "outputs": [],
   "source": []
  }
 ],
 "metadata": {
  "kernelspec": {
   "display_name": "Python 3",
   "language": "python",
   "name": "python3"
  },
  "language_info": {
   "codemirror_mode": {
    "name": "ipython",
    "version": 3
   },
   "file_extension": ".py",
   "mimetype": "text/x-python",
   "name": "python",
   "nbconvert_exporter": "python",
   "pygments_lexer": "ipython3",
   "version": "3.8.0"
  }
 },
 "nbformat": 4,
 "nbformat_minor": 4
}
