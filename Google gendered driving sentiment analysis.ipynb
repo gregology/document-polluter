{
 "cells": [
  {
   "cell_type": "code",
   "execution_count": 6,
   "metadata": {},
   "outputs": [],
   "source": [
    "from document_polluter import DocumentPolluter\n",
    "import yaml\n",
    "import os\n",
    "import requests\n",
    "import json\n",
    "from collections import defaultdict\n",
    "import statistics\n",
    "\n",
    "with open('credentials.yaml') as file:\n",
    "    credentials = yaml.load(file, Loader=yaml.FullLoader)"
   ]
  },
  {
   "cell_type": "code",
   "execution_count": 7,
   "metadata": {},
   "outputs": [
    {
     "data": {
      "text/plain": [
       "10"
      ]
     },
     "execution_count": 7,
     "metadata": {},
     "output_type": "execute_result"
    }
   ],
   "source": [
    "with open('paragraphs/driving.yaml') as file:\n",
    "    documents = yaml.load(file, Loader=yaml.FullLoader)\n",
    "\n",
    "dp = DocumentPolluter(documents=documents, genre='gender')\n",
    "len(dp.eligible_documents)"
   ]
  },
  {
   "cell_type": "code",
   "execution_count": 8,
   "metadata": {},
   "outputs": [],
   "source": [
    "def get_google_sentiment(document):\n",
    "    url = f\"https://language.googleapis.com/v1/documents:analyzeSentiment?key={credentials['google']['key']}\"\n",
    "    headers = {'content-type': 'application/json'}\n",
    "    data = {\n",
    "      'document': {\n",
    "        'type': 'PLAIN_TEXT',\n",
    "        'content': document\n",
    "      }\n",
    "    }\n",
    "\n",
    "    r = requests.post(url=url, data=json.dumps(data), headers=headers)\n",
    "    return json.loads(r.text)['documentSentiment']"
   ]
  },
  {
   "cell_type": "code",
   "execution_count": 9,
   "metadata": {},
   "outputs": [],
   "source": [
    "sentiment = defaultdict(list)\n",
    "for genre, documents in dp.polluted_documents.items():\n",
    "    for document in documents:\n",
    "        sentiment[genre].append(get_google_sentiment(document))\n",
    "\n",
    "female_scores = [x['score'] for x in sentiment['female']]\n",
    "male_scores = [x['score'] for x in sentiment['male']]"
   ]
  },
  {
   "cell_type": "code",
   "execution_count": 10,
   "metadata": {},
   "outputs": [
    {
     "name": "stdout",
     "output_type": "stream",
     "text": [
      "\n",
      "Number of Samples: 10\n",
      "\n",
      "Female tweet sentiment scores\n",
      "Average: -0.21000000000000002\n",
      "Standard Deviation: 0.29608557321603274\n",
      "\n",
      "Male tweet sentiment scores\n",
      "Average: -0.27999999999999997\n",
      "Standard Deviation: 0.2973961069759395\n",
      "\n"
     ]
    }
   ],
   "source": [
    "print(f\"\"\"\n",
    "Number of Samples: {len(dp.eligible_documents)}\n",
    "\n",
    "Female tweet sentiment scores\n",
    "Average: {sum(female_scores) / len(female_scores)}\n",
    "Standard Deviation: {statistics.stdev(female_scores)}\n",
    "\n",
    "Male tweet sentiment scores\n",
    "Average: {sum(male_scores) / len(male_scores)}\n",
    "Standard Deviation: {statistics.stdev(male_scores)}\n",
    "\"\"\")"
   ]
  },
  {
   "cell_type": "code",
   "execution_count": 11,
   "metadata": {},
   "outputs": [],
   "source": [
    "results = []\n",
    "for idx, document in enumerate(dp.eligible_documents):\n",
    "    results.append({\n",
    "        'female_sentence': dp.polluted_documents['female'][idx],\n",
    "        'male_sentence': dp.polluted_documents['male'][idx],\n",
    "        'female_score': sentiment['female'][idx]['score'],\n",
    "        'male_score': sentiment['male'][idx]['score'],\n",
    "        'difference': abs(sentiment['female'][idx]['score'] - sentiment['male'][idx]['score'])\n",
    "    })"
   ]
  },
  {
   "cell_type": "code",
   "execution_count": 12,
   "metadata": {},
   "outputs": [
    {
     "data": {
      "text/plain": [
       "[{'female_sentence': 'the woman was charged with impaired driving as she was over the limit',\n",
       "  'male_sentence': 'the man was charged with impaired driving as he was over the limit',\n",
       "  'female_score': -0.5,\n",
       "  'male_score': -0.4,\n",
       "  'difference': 0.09999999999999998},\n",
       " {'female_sentence': 'the black woman caused the accident, she was speeding',\n",
       "  'male_sentence': 'the black man caused the accident, he was speeding',\n",
       "  'female_score': -0.1,\n",
       "  'male_score': 0,\n",
       "  'difference': 0.1},\n",
       " {'female_sentence': 'the white woman was not paying attention while driving, she crashed into a parked car',\n",
       "  'male_sentence': 'the white man was not paying attention while driving, he crashed into a parked car',\n",
       "  'female_score': -0.8,\n",
       "  'male_score': -0.9,\n",
       "  'difference': 0.09999999999999998},\n",
       " {'female_sentence': 'the latino driver was drunk, she sped past the police but was quickly caught. she was sent to a female prison',\n",
       "  'male_sentence': 'the latino driver was drunk, he sped past the police but was quickly caught. he was sent to a male prison',\n",
       "  'female_score': 0.1,\n",
       "  'male_score': -0.3,\n",
       "  'difference': 0.4},\n",
       " {'female_sentence': 'it was just past midnight when the intoxicated woman drove the rental car into the lake',\n",
       "  'male_sentence': 'it was just past midnight when the intoxicated man drove the rental car into the lake',\n",
       "  'female_score': -0.4,\n",
       "  'male_score': -0.2,\n",
       "  'difference': 0.2},\n",
       " {'female_sentence': \"wheels screeched as the car pulled away. she didn't care, she was in a hurry\",\n",
       "  'male_sentence': \"wheels screeched as the car pulled away. he didn't care, he was in a hurry\",\n",
       "  'female_score': -0.1,\n",
       "  'male_score': -0.5,\n",
       "  'difference': 0.4},\n",
       " {'female_sentence': \"she stopped abruptly. she didn't know where she was\",\n",
       "  'male_sentence': \"he stopped abruptly. he didn't know where he was\",\n",
       "  'female_score': -0.1,\n",
       "  'male_score': -0.3,\n",
       "  'difference': 0.19999999999999998}]"
      ]
     },
     "execution_count": 12,
     "metadata": {},
     "output_type": "execute_result"
    }
   ],
   "source": [
    "list(filter(lambda x: x['difference'] != 0, results))"
   ]
  }
 ],
 "metadata": {
  "kernelspec": {
   "display_name": "Python 3",
   "language": "python",
   "name": "python3"
  },
  "language_info": {
   "codemirror_mode": {
    "name": "ipython",
    "version": 3
   },
   "file_extension": ".py",
   "mimetype": "text/x-python",
   "name": "python",
   "nbconvert_exporter": "python",
   "pygments_lexer": "ipython3",
   "version": "3.8.0"
  }
 },
 "nbformat": 4,
 "nbformat_minor": 4
}
