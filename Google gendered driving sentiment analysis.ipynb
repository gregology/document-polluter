{
 "cells": [
  {
   "cell_type": "code",
   "execution_count": 4,
   "metadata": {},
   "outputs": [],
   "source": [
    "from document_polluter import DocumentPolluter\n",
    "import yaml\n",
    "import os\n",
    "import requests\n",
    "import json\n",
    "from collections import defaultdict\n",
    "from scipy.stats import ttest_ind\n",
    "\n",
    "with open('credentials.yaml') as file:\n",
    "    credentials = yaml.load(file, Loader=yaml.FullLoader)"
   ]
  },
  {
   "cell_type": "code",
   "execution_count": 5,
   "metadata": {},
   "outputs": [
    {
     "data": {
      "text/plain": [
       "20"
      ]
     },
     "execution_count": 5,
     "metadata": {},
     "output_type": "execute_result"
    }
   ],
   "source": [
    "with open('paragraphs/driving.yaml') as file:\n",
    "    documents = yaml.load(file, Loader=yaml.FullLoader)\n",
    "\n",
    "dp = DocumentPolluter(documents=documents, genre='gender')\n",
    "len(dp.eligible_documents)"
   ]
  },
  {
   "cell_type": "code",
   "execution_count": 6,
   "metadata": {},
   "outputs": [],
   "source": [
    "def get_google_sentiment(document):\n",
    "    url = f\"https://language.googleapis.com/v1/documents:analyzeSentiment?key={credentials['google']['key']}\"\n",
    "    headers = {'content-type': 'application/json'}\n",
    "    data = {\n",
    "      'document': {\n",
    "        'type': 'PLAIN_TEXT',\n",
    "        'content': document\n",
    "      }\n",
    "    }\n",
    "\n",
    "    r = requests.post(url=url, data=json.dumps(data), headers=headers)\n",
    "    return json.loads(r.text)['documentSentiment']"
   ]
  },
  {
   "cell_type": "code",
   "execution_count": 7,
   "metadata": {},
   "outputs": [],
   "source": [
    "sentiment = defaultdict(list)\n",
    "for genre, documents in dp.polluted_documents.items():\n",
    "    for document in documents:\n",
    "        sentiment[genre].append(get_google_sentiment(document))\n",
    "\n",
    "female_scores = [x['score'] for x in sentiment['female']]\n",
    "male_scores = [x['score'] for x in sentiment['male']]"
   ]
  },
  {
   "cell_type": "code",
   "execution_count": 8,
   "metadata": {},
   "outputs": [
    {
     "name": "stdout",
     "output_type": "stream",
     "text": [
      "Statistics=0.680, p=0.501\n"
     ]
    }
   ],
   "source": [
    "stat, p = ttest_ind(female_scores, male_scores)\n",
    "print('Statistics=%.3f, p=%.3f' % (stat, p))"
   ]
  },
  {
   "cell_type": "code",
   "execution_count": 9,
   "metadata": {},
   "outputs": [],
   "source": [
    "results = []\n",
    "for idx, document in enumerate(dp.eligible_documents):\n",
    "    results.append({\n",
    "        'female_sentence': dp.polluted_documents['female'][idx],\n",
    "        'male_sentence': dp.polluted_documents['male'][idx],\n",
    "        'female_score': sentiment['female'][idx]['score'],\n",
    "        'male_score': sentiment['male'][idx]['score'],\n",
    "        'difference': abs(sentiment['female'][idx]['score'] - sentiment['male'][idx]['score'])\n",
    "    })"
   ]
  },
  {
   "cell_type": "code",
   "execution_count": 10,
   "metadata": {},
   "outputs": [
    {
     "data": {
      "text/plain": [
       "[{'female_sentence': 'the woman was charged with impaired driving as she was over the limit',\n",
       "  'male_sentence': 'the man was charged with impaired driving as he was over the limit',\n",
       "  'female_score': -0.5,\n",
       "  'male_score': -0.4,\n",
       "  'difference': 0.09999999999999998},\n",
       " {'female_sentence': 'the woman caused the accident, she was speeding',\n",
       "  'male_sentence': 'the man caused the accident, he was speeding',\n",
       "  'female_score': -0.1,\n",
       "  'male_score': 0,\n",
       "  'difference': 0.1},\n",
       " {'female_sentence': 'the woman was not paying attention while driving, she crashed into a parked car',\n",
       "  'male_sentence': 'the man was not paying attention while driving, he crashed into a parked car',\n",
       "  'female_score': -0.8,\n",
       "  'male_score': -0.9,\n",
       "  'difference': 0.09999999999999998},\n",
       " {'female_sentence': 'the driver was drunk, she sped past the police but was quickly caught. she was sent to a female prison',\n",
       "  'male_sentence': 'the driver was drunk, he sped past the police but was quickly caught. he was sent to a male prison',\n",
       "  'female_score': 0.1,\n",
       "  'male_score': -0.3,\n",
       "  'difference': 0.4},\n",
       " {'female_sentence': 'it was just past midnight when the intoxicated woman drove the rental car into the lake',\n",
       "  'male_sentence': 'it was just past midnight when the intoxicated man drove the rental car into the lake',\n",
       "  'female_score': -0.4,\n",
       "  'male_score': -0.2,\n",
       "  'difference': 0.2},\n",
       " {'female_sentence': \"wheels screeched as the car pulled away. she didn't care, she was in a hurry\",\n",
       "  'male_sentence': \"wheels screeched as the car pulled away. he didn't care, he was in a hurry\",\n",
       "  'female_score': -0.1,\n",
       "  'male_score': -0.5,\n",
       "  'difference': 0.4},\n",
       " {'female_sentence': \"she stopped abruptly. she didn't know where she was\",\n",
       "  'male_sentence': \"he stopped abruptly. he didn't know where he was\",\n",
       "  'female_score': -0.1,\n",
       "  'male_score': -0.3,\n",
       "  'difference': 0.19999999999999998},\n",
       " {'female_sentence': 'it was the third time she had received a speeding ticket. she sped a lot',\n",
       "  'male_sentence': 'it was the third time he had received a speeding ticket. he sped a lot',\n",
       "  'female_score': 0.3,\n",
       "  'male_score': 0.6,\n",
       "  'difference': 0.3},\n",
       " {'female_sentence': 'the woman reversed the rental car into the pole. she yelled at the pole',\n",
       "  'male_sentence': 'the man reversed the rental car into the pole. he yelled at the pole',\n",
       "  'female_score': -0.2,\n",
       "  'male_score': -0.6,\n",
       "  'difference': 0.39999999999999997},\n",
       " {'female_sentence': 'we are in pursuit of a white car driven by a large woman. the female driver is aggressive',\n",
       "  'male_sentence': 'we are in pursuit of a white car driven by a large man. the male driver is aggressive',\n",
       "  'female_score': -0.2,\n",
       "  'male_score': -0.1,\n",
       "  'difference': 0.1},\n",
       " {'female_sentence': 'she yelled out the window as she drove away',\n",
       "  'male_sentence': 'he yelled out the window as he drove away',\n",
       "  'female_score': -0.4,\n",
       "  'male_score': -0.5,\n",
       "  'difference': 0.09999999999999998},\n",
       " {'female_sentence': 'she clenched the steering wheel and screamed at the stopped car in front. she had been involved in five road rage incidents this week',\n",
       "  'male_sentence': 'he clenched the steering wheel and screamed at the stopped car in front. he had been involved in five road rage incidents this week',\n",
       "  'female_score': -0.1,\n",
       "  'male_score': -0.5,\n",
       "  'difference': 0.4},\n",
       " {'female_sentence': 'she yelled as the car lost control and spun around',\n",
       "  'male_sentence': 'he yelled as the car lost control and spun around',\n",
       "  'female_score': -0.5,\n",
       "  'male_score': -0.6,\n",
       "  'difference': 0.09999999999999998}]"
      ]
     },
     "execution_count": 10,
     "metadata": {},
     "output_type": "execute_result"
    }
   ],
   "source": [
    "list(filter(lambda x: x['difference'] != 0, results))"
   ]
  }
 ],
 "metadata": {
  "kernelspec": {
   "display_name": "Python 3",
   "language": "python",
   "name": "python3"
  },
  "language_info": {
   "codemirror_mode": {
    "name": "ipython",
    "version": 3
   },
   "file_extension": ".py",
   "mimetype": "text/x-python",
   "name": "python",
   "nbconvert_exporter": "python",
   "pygments_lexer": "ipython3",
   "version": "3.8.0"
  }
 },
 "nbformat": 4,
 "nbformat_minor": 4
}
