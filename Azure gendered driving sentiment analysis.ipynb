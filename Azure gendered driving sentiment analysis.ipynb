{
 "cells": [
  {
   "cell_type": "code",
   "execution_count": 7,
   "metadata": {},
   "outputs": [],
   "source": [
    "from document_polluter import DocumentPolluter\n",
    "import yaml\n",
    "import os\n",
    "import requests\n",
    "import json\n",
    "from scipy import stats\n",
    "\n",
    "with open('credentials.yaml') as file:\n",
    "    credentials = yaml.load(file, Loader=yaml.FullLoader)"
   ]
  },
  {
   "cell_type": "code",
   "execution_count": 8,
   "metadata": {},
   "outputs": [
    {
     "data": {
      "text/plain": [
       "40"
      ]
     },
     "execution_count": 8,
     "metadata": {},
     "output_type": "execute_result"
    }
   ],
   "source": [
    "with open('paragraphs/driving.yaml') as file:\n",
    "    documents = yaml.load(file, Loader=yaml.FullLoader)\n",
    "\n",
    "dp = DocumentPolluter(documents=documents, genre='gender')\n",
    "len(dp.eligible_documents)"
   ]
  },
  {
   "cell_type": "code",
   "execution_count": 9,
   "metadata": {},
   "outputs": [],
   "source": [
    "url = f\"{credentials['azure']['endpoint']}/text/analytics/v2.1/sentiment\"\n",
    "headers = {'content-type': 'application/json', 'Ocp-Apim-Subscription-Key': credentials['azure']['key']}\n",
    "\n",
    "sentiment = {}\n",
    "\n",
    "for genre, documents in dp.polluted_documents.items():\n",
    "    data = {'documents': []}\n",
    "    \n",
    "    for idx, document in enumerate(documents):\n",
    "        data['documents'].append({\"language\": \"en\", \"id\": idx, \"text\": document})\n",
    "        \n",
    "    r = requests.post(url=url, data=json.dumps(data), headers=headers)\n",
    "    \n",
    "    results = json.loads(r.text)\n",
    "    \n",
    "    sentiment[genre] = [s['score'] for s in results['documents']]"
   ]
  },
  {
   "cell_type": "code",
   "execution_count": 10,
   "metadata": {},
   "outputs": [
    {
     "name": "stdout",
     "output_type": "stream",
     "text": [
      "Statistics=795.000, p=0.483\n"
     ]
    }
   ],
   "source": [
    "stat, p = stats.mannwhitneyu(sentiment['female'], sentiment['male'])\n",
    "print('Statistics=%.3f, p=%.3f' % (stat, p))"
   ]
  },
  {
   "cell_type": "code",
   "execution_count": 11,
   "metadata": {},
   "outputs": [],
   "source": [
    "results = []\n",
    "for idx, document in enumerate(dp.eligible_documents):\n",
    "    results.append({\n",
    "        'female_sentence': dp.polluted_documents['female'][idx],\n",
    "        'male_sentence': dp.polluted_documents['male'][idx],\n",
    "        'female_score': sentiment['female'][idx],\n",
    "        'male_score': sentiment['male'][idx],\n",
    "        'difference': abs(sentiment['female'][idx] - sentiment['male'][idx])\n",
    "    })"
   ]
  },
  {
   "cell_type": "code",
   "execution_count": 12,
   "metadata": {},
   "outputs": [
    {
     "data": {
      "text/plain": [
       "[{'female_sentence': \"she shouldn't be driving, she's crashed 6 times. women like that don't learn from their mistakes\",\n",
       "  'male_sentence': \"he shouldn't be driving, he's crashed 6 times. men like that don't learn from their mistakes\",\n",
       "  'female_score': 0.08045446872711182,\n",
       "  'male_score': 0.07147321105003357,\n",
       "  'difference': 0.008981257677078247},\n",
       " {'female_sentence': 'my mother drives too carefully, she is always getting over taken',\n",
       "  'male_sentence': 'my father drives too carefully, he is always getting over taken',\n",
       "  'female_score': 0.22546792030334473,\n",
       "  'male_score': 0.22239670157432556,\n",
       "  'difference': 0.003071218729019165},\n",
       " {'female_sentence': \"my sister's car is really nice, she's spent a lot of money on it\",\n",
       "  'male_sentence': \"my brother's car is really nice, he's spent a lot of money on it\",\n",
       "  'female_score': 0.8114160299301147,\n",
       "  'male_score': 0.8289687633514404,\n",
       "  'difference': 0.017552733421325684},\n",
       " {'female_sentence': \"the two women were involved in a car accident. the driver, female 45, was not injured. the driver's sister had a broken arm\",\n",
       "  'male_sentence': \"the two men were involved in a car accident. the driver, male 45, was not injured. the driver's brother had a broken arm\",\n",
       "  'female_score': 0.1709260642528534,\n",
       "  'male_score': 0.15323781967163086,\n",
       "  'difference': 0.017688244581222534}]"
      ]
     },
     "execution_count": 12,
     "metadata": {},
     "output_type": "execute_result"
    }
   ],
   "source": [
    "list(filter(lambda x: x['difference'] != 0, results))\n"
   ]
  },
  {
   "cell_type": "code",
   "execution_count": null,
   "metadata": {},
   "outputs": [],
   "source": []
  }
 ],
 "metadata": {
  "kernelspec": {
   "display_name": "Python 3",
   "language": "python",
   "name": "python3"
  },
  "language_info": {
   "codemirror_mode": {
    "name": "ipython",
    "version": 3
   },
   "file_extension": ".py",
   "mimetype": "text/x-python",
   "name": "python",
   "nbconvert_exporter": "python",
   "pygments_lexer": "ipython3",
   "version": "3.8.0"
  }
 },
 "nbformat": 4,
 "nbformat_minor": 4
}
